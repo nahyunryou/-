{
  "nbformat": 4,
  "nbformat_minor": 0,
  "metadata": {
    "colab": {
      "name": "학술제_유나현.ipynb",
      "private_outputs": true,
      "provenance": []
    },
    "kernelspec": {
      "name": "python3",
      "display_name": "Python 3"
    },
    "language_info": {
      "name": "python"
    },
    "accelerator": "GPU"
  },
  "cells": [
    {
      "cell_type": "code",
      "source": [
        "pip install --upgrade xlrd"
      ],
      "metadata": {
        "id": "-QGm7IZQ_pi7"
      },
      "execution_count": null,
      "outputs": []
    },
    {
      "cell_type": "code",
      "execution_count": null,
      "metadata": {
        "id": "K0RI0ZYcMuwv"
      },
      "outputs": [],
      "source": [
        "from google.colab import drive\n",
        "drive.mount('/content/drive')"
      ]
    },
    {
      "cell_type": "code",
      "source": [
        "#장애인 콜 시스템 분석\n",
        "import requests\n",
        "import pprint\n",
        "import json\n",
        "import pandas as pd\n",
        "from os import name\n",
        "import xml.etree.ElementTree as et\n",
        "import bs4\n",
        "from lxml import html\n",
        "from urllib.parse import urlencode, quote_plus, unquote\n",
        "\n",
        "#API KEY\n",
        "my_key = '46454c487563686139374b4a4a486f'\n",
        "\n",
        "start = '20220101'\n",
        "end = '20220501'\n",
        "\n",
        "dt_index = pd.date_range(start = start, end = end)\n",
        "dt_list = dt_index.strftime(\"%Y%m%d\").tolist()\n",
        "Calltaxi1 = []\n",
        "\n",
        "endpoint=\"http://openapi.seoul.go.kr:8088/\" + my_key + \"/xml/disabledCalltaxi/1/5/20220101\"\n",
        "resp = requests.get(endpoint)\n",
        "xml_obj = bs4.BeautifulSoup(resp.text,'lxml-xml')\n",
        "rows = xml_obj.findAll('item')\n",
        "# 각 행의 컬럼, 이름, 값을 가지는 리스트 만들기\n",
        "row_list = [] # 행값\n",
        "name_list = [] # 열이름값\n",
        "value_list = [] #데이터값\n",
        "# xml 안의 데이터 수집\n",
        "for k in range(0, len(rows)):\n",
        "      columns = rows[k].find_all()\n",
        "      for j in range(0,len(columns)):\n",
        "        if k ==0:\n",
        "          name_list.append(columns[j].name)\n",
        "        value_list.append(columns[j].text)\n",
        "row_list.append(value_list)\n",
        "Calltaxi1 = pd.DataFrame({'row_list' : row_list}, columns=name_list)"
      ],
      "metadata": {
        "id": "ZKLlaj8l1YYs"
      },
      "execution_count": null,
      "outputs": []
    },
    {
      "cell_type": "code",
      "source": [
        "for i in dt_list:\n",
        "    endpoint=f\"http://openapi.seoul.go.kr:8088/\" + my_key + \"/xml/disabledCalltaxi/1/5/\" + i\n",
        "    resp = requests.get(endpoint)\n",
        "    xml_obj = bs4.BeautifulSoup(resp.text,'lxml-xml')\n",
        "    rows = xml_obj.findAll('item')\n",
        "    # 각 행의 컬럼, 이름, 값을 가지는 리스트 만들기\n",
        "    row_list = [] # 행값\n",
        "    value_list = [] #데이터값\n",
        "    # xml 안의 데이터 수집\n",
        "    for k in range(1, len(rows)):\n",
        "          columns = rows[k].find_all()\n",
        "          for j in range(0,len(columns)):\n",
        "            value_list.append(columns[j].text)\n",
        "    row_list.append(value_list)\n",
        "    value_list = []\n",
        "    l=0\n",
        "    while True:\n",
        "      lst=[]\n",
        "      if l == len(row_list[0]): break\n",
        "      lst.append(row_list[0][l:l+9])\n",
        "      l+=9\n",
        "      Calltaxi = pd.DataFrame(lst, columns=name_list)\n",
        "      Calltaxi1 = pd.concat([Calltaxi1, Calltaxi])\n",
        "      del Calltaxi"
      ],
      "metadata": {
        "id": "AvFiFgNp1dAy"
      },
      "execution_count": null,
      "outputs": []
    },
    {
      "cell_type": "code",
      "source": [
        "import pandas as pd\n",
        "\n",
        "pal = pd.read_excel(\"/content/drive/MyDrive/학술제/location.xlsx\")\n",
        "\n",
        "pal = pal[pal.시도 =='서울특별시']\n",
        "pal = pal[['시군구','읍면동','위도','경도']]\n",
        "for i in pal.index:\n",
        "  if pal['읍면동'][i][-1] != \"동\":\n",
        "    pal['읍면동'][i] = pal['읍면동'][i] + '동'\n",
        "pal['지역'] = pal['시군구'] + pal['읍면동']\n",
        "pal = pal.drop_duplicates(['지역'])\n",
        "\n",
        "pal1 = pal[['지역','위도','경도']]\n",
        "pal1 = pal1.rename(columns={'지역':'출발지역','위도':'출발위도', '경도':'출발경도'})\n",
        "\n",
        "pal2 = pal[['지역','위도','경도']]\n",
        "pal2 = pal2.rename(columns={'지역':'도착지역','위도':'도착위도', '경도':'도착경도'})\n",
        "\n",
        "pal2"
      ],
      "metadata": {
        "id": "culsPiO52wmN"
      },
      "execution_count": null,
      "outputs": []
    },
    {
      "cell_type": "code",
      "source": [
        "Calltaxi2 = Calltaxi1.sort_values('receipttime')"
      ],
      "metadata": {
        "id": "6-sDoqjQ1fcl"
      },
      "execution_count": null,
      "outputs": []
    },
    {
      "cell_type": "code",
      "source": [
        "Calltaxi2 = Calltaxi2.drop_duplicates()"
      ],
      "metadata": {
        "id": "4nRT7v2_1gnc"
      },
      "execution_count": null,
      "outputs": []
    },
    {
      "cell_type": "code",
      "source": [
        "Calltaxi3 = Calltaxi2[['no', 'startpos1', 'startpos2', 'endpos1', 'endpos2']]"
      ],
      "metadata": {
        "id": "5f91tusu1k8y"
      },
      "execution_count": null,
      "outputs": []
    },
    {
      "cell_type": "code",
      "source": [
        "Calltaxi3 = Calltaxi3.rename(columns={'startpos1':'출발구', 'endpos1':'도착구', 'startpos2':'출발동', 'endpos2':'도착동'})"
      ],
      "metadata": {
        "id": "7veZpJ0a1mSJ"
      },
      "execution_count": null,
      "outputs": []
    },
    {
      "cell_type": "code",
      "source": [
        "Calltaxi3['출발지역'] = Calltaxi3['출발구'] + Calltaxi3['출발동']\n",
        "Calltaxi3['도착지역'] = Calltaxi3['도착구'] + Calltaxi3['도착동']"
      ],
      "metadata": {
        "id": "GLYxDINy1nxH"
      },
      "execution_count": null,
      "outputs": []
    },
    {
      "cell_type": "code",
      "source": [
        "Calltaxi3 = Calltaxi3[['no', '출발지역', '도착지역']]"
      ],
      "metadata": {
        "id": "2LRJEubA1ps0"
      },
      "execution_count": null,
      "outputs": []
    },
    {
      "cell_type": "code",
      "source": [
        "data = pd.merge(Calltaxi3, pal1, on=\"출발지역\")\n",
        "data = pd.merge(data, pal2, on=\"도착지역\")\n",
        "data = data.drop_duplicates()\n",
        "data"
      ],
      "metadata": {
        "id": "tEq_rv651u3H"
      },
      "execution_count": null,
      "outputs": []
    },
    {
      "cell_type": "code",
      "source": [
        "\n",
        "start = pd.read_csv(\"/content/drive/MyDrive/학술제/startD.csv\")\n",
        "\n",
        "\n",
        "end = pd.read_csv(\"/content/drive/MyDrive/학술제/endD.csv\")"
      ],
      "metadata": {
        "id": "8saO6UC41wms"
      },
      "execution_count": null,
      "outputs": []
    },
    {
      "cell_type": "code",
      "source": [
        "start = start.rename(columns={'Unnamed: 0':'출발지역', 'startpos2':'출발합계'})\n",
        "end = end.rename(columns={'Unnamed: 0':'도착지역', 'endpos2':'도착합계'})"
      ],
      "metadata": {
        "id": "SOaROcYM1xMt"
      },
      "execution_count": null,
      "outputs": []
    },
    {
      "cell_type": "code",
      "source": [
        "pal3 = pd.read_excel(\"/content/drive/MyDrive/학술제/location.xlsx\")\n",
        "\n",
        "pal3 = pal3[pal3.시도 =='서울특별시']\n",
        "pal3 = pal3[['시군구','읍면동']]\n",
        "pal3 = pal3.rename(columns={'읍면동':'출발지역'})\n",
        "\n",
        "pal4 = pd.read_excel(\"/content/drive/MyDrive/학술제/location.xlsx\")\n",
        "\n",
        "pal4 = pal4[pal4.시도 =='서울특별시']\n",
        "pal4 = pal4[['시군구','읍면동']]\n",
        "pal4 = pal4.rename(columns={'읍면동':'도착지역'})\n",
        "\n",
        "sumofstart = pd.merge(start, pal3, on=\"출발지역\")\n",
        "sumofstart['출발지역'] = sumofstart['시군구'] + sumofstart['출발지역']\n",
        "sumofstart = sumofstart[['출발지역' ,'출발합계']]\n",
        "\n",
        "sumofstart"
      ],
      "metadata": {
        "id": "4rtovZbo16bE"
      },
      "execution_count": null,
      "outputs": []
    },
    {
      "cell_type": "code",
      "source": [
        "sumofend = pd.merge(end, pal4, on=\"도착지역\")\n",
        "sumofend['도착지역'] = sumofend['시군구'] + sumofend['도착지역']\n",
        "sumofend = sumofend[['도착지역' ,'도착합계']]\n",
        "\n",
        "sumofend"
      ],
      "metadata": {
        "id": "9njONKiG17-9"
      },
      "execution_count": null,
      "outputs": []
    },
    {
      "cell_type": "code",
      "source": [
        "data2 = pd.merge(data, sumofstart, on=\"출발지역\")\n",
        "data2.head()"
      ],
      "metadata": {
        "id": "X26ELfRJ1-oW"
      },
      "execution_count": null,
      "outputs": []
    },
    {
      "cell_type": "code",
      "source": [
        "data3 = pd.merge(data2, sumofend, on=\"도착지역\")\n",
        "data3 = data3.drop_duplicates()\n",
        "data3"
      ],
      "metadata": {
        "id": "0JBFxe1D1_oD"
      },
      "execution_count": null,
      "outputs": []
    },
    {
      "cell_type": "code",
      "source": [
        "import pandas as pd\n",
        "\n",
        "pal = pd.read_excel(\"/content/drive/MyDrive/학술제/location.xlsx\")\n",
        "\n",
        "pal = pal[pal.시도 =='서울특별시']\n",
        "pal = pal[['시군구','읍면동','위도','경도']]\n",
        "for i in pal.index:\n",
        "  if pal['읍면동'][i][-1] != \"동\":\n",
        "    pal['읍면동'][i] = pal['읍면동'][i] + '동'\n",
        "pal['지역'] = pal['시군구'] + pal['읍면동']\n",
        "pal = pal.drop_duplicates(['지역'])\n",
        "\n",
        "pal1 = pal[['지역','위도','경도']]\n",
        "pal1 = pal1.rename(columns={'지역':'출발지역','위도':'출발위도', '경도':'출발경도'})\n",
        "\n",
        "pal2 = pal[['지역','위도','경도']]\n",
        "pal2 = pal2.rename(columns={'지역':'도착지역','위도':'도착위도', '경도':'도착경도'})\n",
        "\n",
        "pal2"
      ],
      "metadata": {
        "id": "JzoH5Sso1shV"
      },
      "execution_count": null,
      "outputs": []
    },
    {
      "cell_type": "code",
      "source": [
        "import pandas as pd\n",
        "import matplotlib.pyplot as plt\n",
        "import seaborn as sns\n",
        "\n",
        "%matplotlib inline\n",
        "from matplotlib import rc\n",
        "rc('font', family='AppleGothic')\n",
        "plt.rcParams['axes.unicode_minus'] = False\n",
        "\n",
        "report = pd.read_excel('/content/drive/MyDrive/학술제/Report.xls')"
      ],
      "metadata": {
        "id": "41yXXfkX_pZF"
      },
      "execution_count": null,
      "outputs": []
    },
    {
      "cell_type": "code",
      "source": [
        "report = report [['자치구','동','합계']]\n",
        "report.drop(report.loc[report['동']=='동'].index, inplace=True)\n",
        "report.drop(report.loc[report['동']=='합계'].index, inplace=True)\n",
        "report.drop(report.loc[report['동']=='소계'].index, inplace=True)\n",
        "report.sort_values(by='합계', ascending=False)"
      ],
      "metadata": {
        "id": "FPmc7qTt_3Ph"
      },
      "execution_count": null,
      "outputs": []
    },
    {
      "cell_type": "code",
      "source": [
        "pal = pd.read_excel(\"/content/drive/MyDrive/학술제/location.xlsx\")"
      ],
      "metadata": {
        "id": "tdb6qji8_5oJ"
      },
      "execution_count": null,
      "outputs": []
    },
    {
      "cell_type": "code",
      "source": [
        "pal = pal[pal.시도 =='서울특별시']\n",
        "pal = pal[['코드','시군구','읍면동','위도','경도']]\n",
        "pal = pal.rename(columns={'읍면동':'동'})"
      ],
      "metadata": {
        "id": "kh6TUh1o_-B1"
      },
      "execution_count": null,
      "outputs": []
    },
    {
      "cell_type": "code",
      "source": [
        "data = pd.merge(pal, report, on=\"동\")\n",
        "data = data.drop_duplicates()"
      ],
      "metadata": {
        "id": "_fkgXKNEABSZ"
      },
      "execution_count": null,
      "outputs": []
    },
    {
      "cell_type": "code",
      "source": [
        "import folium\n",
        "map = folium.Map(location=[37.51883692578755,126.98948],zoom_start=12)\n",
        "for i in data.index:\n",
        "  folium.CircleMarker([data['위도'][i],data['경도'][i]],radius=data['합계'][i]/100, popup=data['동'][i],color=\"#3443CC\",fill_color=\"#3443CC\").add_to(map)"
      ],
      "metadata": {
        "id": "zRDJ8GwJADQ5"
      },
      "execution_count": null,
      "outputs": []
    },
    {
      "cell_type": "code",
      "source": [
        "map"
      ],
      "metadata": {
        "id": "SIB_mqRQANvL"
      },
      "execution_count": null,
      "outputs": []
    },
    {
      "cell_type": "code",
      "source": [
        "import numpy as np\n",
        "import pandas as pd\n",
        "import seaborn as sns\n",
        "import matplotlib.pyplot as plt"
      ],
      "metadata": {
        "id": "sPj_aGRFNX_1"
      },
      "execution_count": null,
      "outputs": []
    },
    {
      "cell_type": "code",
      "source": [
        "pip install geopandas"
      ],
      "metadata": {
        "id": "E1DlNgNjzrlG"
      },
      "execution_count": null,
      "outputs": []
    },
    {
      "cell_type": "code",
      "source": [
        "import os \n",
        "from geopandas import GeoDataFrame\n",
        "import pickle\n",
        "from shapely.geometry import Point\n",
        "cur_path = os.getcwd() # 경로 설정"
      ],
      "metadata": {
        "id": "-pMu2VGsfpNE"
      },
      "execution_count": null,
      "outputs": []
    },
    {
      "cell_type": "markdown",
      "source": [
        "## 저상버스"
      ],
      "metadata": {
        "id": "Gl35x5EGneSc"
      }
    },
    {
      "cell_type": "code",
      "source": [
        "df = pd.read_csv('/content/drive/MyDrive/학술제/서울특별시_저상버스 도입 노선 및 노선별 보유율_12_31_2020.csv', encoding='cp949')"
      ],
      "metadata": {
        "id": "h8qQCB-5NFgh"
      },
      "execution_count": null,
      "outputs": []
    },
    {
      "cell_type": "code",
      "source": [
        "df.sort_values(by='보유율', ascending=True).head(10) # 저상 버스가 부족한 노선번호 상위 10개"
      ],
      "metadata": {
        "id": "Q_Pv3JhqN6bQ"
      },
      "execution_count": null,
      "outputs": []
    },
    {
      "cell_type": "markdown",
      "source": [
        "## 지하철역"
      ],
      "metadata": {
        "id": "KS0VMt-dnhGQ"
      }
    },
    {
      "cell_type": "code",
      "source": [
        "subway_crd = pd.read_csv('/content/drive/MyDrive/학술제/지하철역_좌표.csv', encoding='cp949')\n",
        "subway_line= pd.read_csv('/content/drive/MyDrive/학술제/서울교통공사 노선별 지하철역 정보 (2).csv', encoding='cp949')"
      ],
      "metadata": {
        "id": "znz5Mvn6fuWC"
      },
      "execution_count": null,
      "outputs": []
    },
    {
      "cell_type": "code",
      "source": [
        "subway_crd"
      ],
      "metadata": {
        "id": "lEIBl9Fttec8"
      },
      "execution_count": null,
      "outputs": []
    },
    {
      "cell_type": "code",
      "source": [
        "a=subway_line[subway_line['호선'].str.contains('서해선')].index\n",
        "b=subway_line[subway_line['호선'].str.contains('김포도시철도')].index\n",
        "c=subway_line[subway_line['호선'].str.contains('인천선')].index\n",
        "d=subway_line[subway_line['호선'].str.contains('인천2호선')].index\n",
        "subway_line.drop(a,inplace=True)\n",
        "subway_line.drop(b,inplace=True)\n",
        "subway_line.drop(c,inplace=True)\n",
        "subway_line.drop(d,inplace=True)"
      ],
      "metadata": {
        "id": "3G63wBtrRVc0"
      },
      "execution_count": null,
      "outputs": []
    },
    {
      "cell_type": "code",
      "source": [
        "subway_line "
      ],
      "metadata": {
        "id": "aKp-I97L4PFF"
      },
      "execution_count": null,
      "outputs": []
    },
    {
      "cell_type": "code",
      "source": [
        "line_ls = []\n",
        "for i in range(len(subway_crd)): \n",
        "    cur_subway = subway_crd.iloc[i]['역이름']\n",
        "    matched_line = subway_line.loc[subway_line['전철역명'] == cur_subway]\n",
        "    \n",
        "    if len(matched_line) > 0 : \n",
        "        line_ls.append(list(matched_line['호선']))\n",
        "        \n",
        "    else: \n",
        "        line_ls.append(None)\n",
        "\n",
        "subway_crd['호선'] = line_ls # 호선 정보 부여\n",
        "subway_crd.dropna(subset=['호선'], inplace=True, axis=0) # 수도권 지하철역 좌표는 노선 정보가 안들어갔으므로 제거 \n",
        "\n",
        "subway_crd['geometry'] = subway_crd.apply(lambda x: Point(x['x'], x['y']), axis=1) # 좌표 정보를 합쳐서 geometry 정보 부여  \n",
        "subway_crd_gdf = GeoDataFrame(subway_crd, crs='EPSG:4326', geometry='geometry') # 좌표계 지정"
      ],
      "metadata": {
        "id": "XpUtJaavhJoL"
      },
      "execution_count": null,
      "outputs": []
    },
    {
      "cell_type": "code",
      "source": [
        "!pip install folium"
      ],
      "metadata": {
        "id": "KglqLvV3xwGG"
      },
      "execution_count": null,
      "outputs": []
    },
    {
      "cell_type": "code",
      "source": [
        "subway_crd"
      ],
      "metadata": {
        "id": "ZlJCMpMbQwd4"
      },
      "execution_count": null,
      "outputs": []
    },
    {
      "cell_type": "code",
      "source": [
        "lift = pd.read_csv('/content/drive/MyDrive/학술제/서울시 지하철 출입구 리프트 위치정보.csv', encoding='cp949')"
      ],
      "metadata": {
        "id": "8KnPpfb0YwCF"
      },
      "execution_count": null,
      "outputs": []
    },
    {
      "cell_type": "code",
      "source": [
        "lift_location=lift['노드 WKT']"
      ],
      "metadata": {
        "id": "Gc80HkRi939p"
      },
      "execution_count": null,
      "outputs": []
    },
    {
      "cell_type": "code",
      "source": [
        "lift.rename(columns = {'노드 WKT':'coordinate'},inplace=True)"
      ],
      "metadata": {
        "id": "cFxq1OfUFH_r"
      },
      "execution_count": null,
      "outputs": []
    },
    {
      "cell_type": "code",
      "source": [
        "lift['x'] = lift.coordinate.str.split(' ').str[0]\n",
        "lift['y'] = lift.coordinate.str.split(' ').str[1]"
      ],
      "metadata": {
        "id": "wjD9fqoIC5tt"
      },
      "execution_count": null,
      "outputs": []
    },
    {
      "cell_type": "code",
      "source": [
        "lift['x']=lift['x'].str[6:]"
      ],
      "metadata": {
        "id": "dCInaV-PJl_L"
      },
      "execution_count": null,
      "outputs": []
    },
    {
      "cell_type": "code",
      "source": [
        "elevator = pd.read_csv('/content/drive/MyDrive/학술제/서울시 지하철역 엘리베이터 위치정보.csv', encoding='cp949')"
      ],
      "metadata": {
        "id": "liOkJTKJ8eO3"
      },
      "execution_count": null,
      "outputs": []
    },
    {
      "cell_type": "code",
      "source": [
        "elevator.rename(columns = {'노드 WKT':'coordinate'},inplace=True)"
      ],
      "metadata": {
        "id": "wQv3woyp8pcd"
      },
      "execution_count": null,
      "outputs": []
    },
    {
      "cell_type": "code",
      "source": [
        "elevator['x'] = elevator.coordinate.str.split(' ').str[0]\n",
        "elevator['y'] = elevator.coordinate.str.split(' ').str[1]"
      ],
      "metadata": {
        "id": "yWDq5bE7LI-s"
      },
      "execution_count": null,
      "outputs": []
    },
    {
      "cell_type": "code",
      "source": [
        "elevator['x'] = elevator['x'].str.replace(pat=r'(', repl=r'', regex=True)\n",
        "elevator['x'] = elevator['x'].str.replace(pat=r'POINT', repl=r'', regex=True)\n",
        "elevator['y'] = elevator['y'].str.replace(pat=r')', repl=r'', regex=True)\n",
        "lift['x'] = lift['x'].str.replace(pat=r'(', repl=r'', regex=True)\n",
        "lift['y'] = lift['y'].str.replace(pat=r')', repl=r'', regex=True)"
      ],
      "metadata": {
        "id": "tbSEWBobI_1e"
      },
      "execution_count": null,
      "outputs": []
    },
    {
      "cell_type": "code",
      "source": [
        "elevator['x'] = elevator['x'].str.replace(pat=r'POINT', repl=r'', regex=True)\n",
        "lift['x'] = lift['x'].str.replace(pat=r'POINT', repl=r'', regex=True)"
      ],
      "metadata": {
        "id": "4m2golmgIgbG"
      },
      "execution_count": null,
      "outputs": []
    },
    {
      "cell_type": "code",
      "source": [
        "lift['y'] = lift['y'].astype(float)\n",
        "lift['x'] = lift['x'].astype(float)"
      ],
      "metadata": {
        "id": "8nGQ8Zg8Veyn"
      },
      "execution_count": null,
      "outputs": []
    },
    {
      "cell_type": "code",
      "source": [
        "elevator['y'] = elevator['y'].astype(float)\n",
        "elevator['x'] = elevator['x'].astype(float)"
      ],
      "metadata": {
        "id": "oGwyTe5OVwv8"
      },
      "execution_count": null,
      "outputs": []
    },
    {
      "cell_type": "code",
      "source": [
        "import folium\n",
        "map = folium.Map(location=[37.51883692578755,126.98948],zoom_start=12)\n",
        "for i in subway_crd.index: # 지하철\n",
        "  folium.CircleMarker([subway_crd_gdf['y'][i],subway_crd_gdf['x'][i]], popup=subway_crd_gdf['역이름'][i],radius=2,color=\"#000080\",fill_color=\"#3443CC\").add_to(map)\n",
        "for i in elevator.index: # 엘리베이터\n",
        "  folium.CircleMarker([elevator['y'][i],elevator['x'][i]],popup=elevator['읍면동명'][i],radius=2,color=\"#FF0000\",fill_color=\"#3443CC\").add_to(map)\n",
        "for i in lift.index: # 리프트\n",
        "  folium.CircleMarker([lift['y'][i],lift['x'][i]], popup=lift['읍면동명'][i],radius=2,color=\"#9400D3\",fill_color=\"#3443CC\").add_to(map)"
      ],
      "metadata": {
        "id": "5AG_nYAsPLCW"
      },
      "execution_count": null,
      "outputs": []
    },
    {
      "cell_type": "code",
      "source": [
        "map1 = folium.Map(location=[37.51883692578755,126.98948],zoom_start=12)\n",
        "for i in lift.index: # 리프트\n",
        "  folium.CircleMarker([lift['y'][i],lift['x'][i]], popup=lift['읍면동명'][i],radius=2,color=\"#9400D3\",fill_color=\"#3443CC\").add_to(map1)"
      ],
      "metadata": {
        "id": "eeBj53ct2NNe"
      },
      "execution_count": null,
      "outputs": []
    },
    {
      "cell_type": "code",
      "source": [
        "map1"
      ],
      "metadata": {
        "id": "KZ5ACoH62O95"
      },
      "execution_count": null,
      "outputs": []
    },
    {
      "cell_type": "code",
      "source": [
        "# red: subway\n",
        "# purple:lift\n",
        "# blue: elevator"
      ],
      "metadata": {
        "id": "6sxla1h_XUme"
      },
      "execution_count": null,
      "outputs": []
    },
    {
      "cell_type": "code",
      "source": [
        "elevator.info()"
      ],
      "metadata": {
        "id": "6KNJQCEmOUkX"
      },
      "execution_count": null,
      "outputs": []
    },
    {
      "cell_type": "code",
      "source": [
        "lift.info()"
      ],
      "metadata": {
        "id": "dmPoh0oGOZp1"
      },
      "execution_count": null,
      "outputs": []
    },
    {
      "cell_type": "code",
      "source": [
        "map"
      ],
      "metadata": {
        "id": "XJOdyny3XJMd"
      },
      "execution_count": null,
      "outputs": []
    },
    {
      "cell_type": "code",
      "source": [
        "elevator.head()"
      ],
      "metadata": {
        "id": "3-PYenun5b3q"
      },
      "execution_count": null,
      "outputs": []
    },
    {
      "cell_type": "code",
      "source": [
        "subway_crd.rename(columns = {'역이름' : '지하철역명'}, inplace = True)"
      ],
      "metadata": {
        "id": "iajEjOsAAstp"
      },
      "execution_count": null,
      "outputs": []
    },
    {
      "cell_type": "code",
      "source": [
        "subway_crd.head()"
      ],
      "metadata": {
        "id": "mNJVEHBv5g2m"
      },
      "execution_count": null,
      "outputs": []
    },
    {
      "cell_type": "code",
      "source": [
        "elevator['지하철역명']"
      ],
      "metadata": {
        "id": "bkLA8u-Q-TKB"
      },
      "execution_count": null,
      "outputs": []
    },
    {
      "cell_type": "code",
      "source": [
        "lift['지하철역명']"
      ],
      "metadata": {
        "id": "vqGmVQbm-pE9"
      },
      "execution_count": null,
      "outputs": []
    },
    {
      "cell_type": "code",
      "source": [
        "subele=pd.merge(subway_crd, elevator, on = '지하철역명')\n",
        "subele"
      ],
      "metadata": {
        "id": "p6F42s1cAdT3"
      },
      "execution_count": null,
      "outputs": []
    },
    {
      "cell_type": "code",
      "source": [
        "import folium\n",
        "map = folium.Map(location=[37.51883692578755,126.98948],zoom_start=12)\n",
        "for i in subway_crd.index: # 지하철\n",
        "  folium.CircleMarker([subway_crd_gdf['y'][i],subway_crd_gdf['x'][i]], popup=subway_crd_gdf['지하철역명'][i],radius=2,color=\"#000080\",fill_color=\"#3443CC\").add_to(map)\n",
        "for i in subele.index: # 지하철엘베병합\n",
        "  folium.CircleMarker([subele['y_x'][i],subele['x_x'][i]], popup=subele['지하철역명'][i],radius=2,color=\"#FF0000\",fill_color=\"#3443CC\").add_to(map)\n",
        "for i in mlift.index: # 지하철리프트병합\n",
        "  folium.CircleMarker([mlift['y_x'][i],mlift['x_x'][i]], popup=mlift['지하철역명'][i],radius=2,color=\"#9400D3\",fill_color=\"#3443CC\").add_to(map)"
      ],
      "metadata": {
        "id": "WCUKhw6rAeAm"
      },
      "execution_count": null,
      "outputs": []
    },
    {
      "cell_type": "code",
      "source": [
        "map"
      ],
      "metadata": {
        "id": "q7uj4fDHF0Zg"
      },
      "execution_count": null,
      "outputs": []
    },
    {
      "cell_type": "code",
      "source": [
        "# 파란색 엘리베이터 없는 역"
      ],
      "metadata": {
        "id": "9wOR6iUpF53e"
      },
      "execution_count": null,
      "outputs": []
    },
    {
      "cell_type": "code",
      "source": [
        "lift.head()"
      ],
      "metadata": {
        "id": "9XvNE9MD2Chx"
      },
      "execution_count": null,
      "outputs": []
    },
    {
      "cell_type": "code",
      "source": [
        "lift.info()"
      ],
      "metadata": {
        "id": "owVrY9wK2GG3"
      },
      "execution_count": null,
      "outputs": []
    },
    {
      "cell_type": "code",
      "source": [
        "mlift=pd.merge(subele, lift, on = '지하철역명')"
      ],
      "metadata": {
        "id": "6XJ78JF-J-rM"
      },
      "execution_count": null,
      "outputs": []
    },
    {
      "cell_type": "code",
      "source": [
        "mlift"
      ],
      "metadata": {
        "id": "02Dvy6X5KMM0"
      },
      "execution_count": null,
      "outputs": []
    },
    {
      "cell_type": "code",
      "source": [
        "import requests\n",
        "import json\n",
        "\n",
        "# 서울 행정구역 json raw파일(githubcontent)\n",
        "r = requests.get('https://raw.githubusercontent.com/southkorea/seoul-maps/master/kostat/2013/json/seoul_municipalities_geo_simple.json')\n",
        "c = r.content\n",
        "seoul_geo = json.loads(c)"
      ],
      "metadata": {
        "id": "ss1XHQgo5d9y"
      },
      "execution_count": null,
      "outputs": []
    },
    {
      "cell_type": "code",
      "source": [
        "from folium.plugins import MarkerCluster"
      ],
      "metadata": {
        "id": "scUvnU6W5v2Z"
      },
      "execution_count": null,
      "outputs": []
    },
    {
      "cell_type": "code",
      "source": [
        "m5 = folium.Map(\n",
        "    location=[37.559819, 126.963895],\n",
        "    zoom_start=12, \n",
        "    tiles='cartodbpositron'\n",
        ")\n",
        "\n",
        "folium.GeoJson(\n",
        "    seoul_geo,\n",
        "    name='지역구'\n",
        ").add_to(m5)\n",
        "\n",
        "for i in subway_crd.index: # 지하철\n",
        "  folium.CircleMarker([subway_crd_gdf['y'][i],subway_crd_gdf['x'][i]], popup=subway_crd_gdf['지하철역명'][i],radius=2,color=\"#000080\",fill_color=\"#3443CC\").add_to(m5)\n",
        "for i in subele.index: # 지하철엘베병합\n",
        "  folium.CircleMarker([subele['y_x'][i],subele['x_x'][i]], popup=subele['지하철역명'][i],radius=2,color=\"#FF0000\",fill_color=\"#3443CC\").add_to(m5)\n",
        "m5"
      ],
      "metadata": {
        "id": "6q8e3SAgN8ND"
      },
      "execution_count": null,
      "outputs": []
    },
    {
      "cell_type": "code",
      "source": [
        "m5 = folium.Map(\n",
        "    location=[37.559819, 126.963895],\n",
        "    zoom_start=12, \n",
        "    tiles='cartodbpositron'\n",
        ")\n",
        "\n",
        "folium.GeoJson(\n",
        "    seoul_geo,\n",
        "    name='지역구'\n",
        ").add_to(m5)\n",
        "\n",
        "for i in subway_crd.index: # 지하철\n",
        "  folium.CircleMarker([subway_crd_gdf['y'][i],subway_crd_gdf['x'][i]], popup=subway_crd_gdf['지하철역명'][i],radius=2,color=\"#000080\",fill_color=\"#3443CC\").add_to(m5)\n",
        "for i in subele.index: # 지하철엘베병합\n",
        "  folium.CircleMarker([subele['y_x'][i],subele['x_x'][i]], popup=subele['지하철역명'][i],radius=2,color=\"#FF0000\",fill_color=\"#3443CC\").add_to(m5)\n",
        "for i in mlift.index: # 지하철리프트병합\n",
        "  folium.CircleMarker([mlift['y_x'][i],mlift['x_x'][i]], popup=mlift['지하철역명'][i],radius=2,color=\"#9400D3\",fill_color=\"#3443CC\").add_to(m5)\n",
        "m5"
      ],
      "metadata": {
        "id": "DJEn8hDwKus7"
      },
      "execution_count": null,
      "outputs": []
    },
    {
      "cell_type": "code",
      "source": [
        "data"
      ],
      "metadata": {
        "id": "TsOp2O_M4JWb"
      },
      "execution_count": null,
      "outputs": []
    },
    {
      "cell_type": "code",
      "source": [
        "m6 = folium.Map(\n",
        "    location=[37.559819, 126.963895],\n",
        "    zoom_start=12, \n",
        "    tiles='cartodbpositron'\n",
        ")\n",
        "\n",
        "folium.GeoJson(\n",
        "    seoul_geo,\n",
        "    name='지역구'\n",
        ").add_to(m6)\n",
        "\n",
        "for i in subway_crd.index: # 지하철\n",
        "  folium.CircleMarker([subway_crd_gdf['y'][i],subway_crd_gdf['x'][i]], popup=subway_crd_gdf['지하철역명'][i],radius=2,color=\"#000080\",fill_color=\"#3443CC\").add_to(m6)\n",
        "for i in elevator.index: # 엘리베이터\n",
        "  folium.CircleMarker([elevator['y'][i],elevator['x'][i]],popup=elevator['읍면동명'][i],radius=2,color=\"#FF0000\",fill_color=\"#3443CC\").add_to(m6)\n",
        "for i in lift.index: # 리프트\n",
        "  folium.CircleMarker([lift['y'][i],lift['x'][i]], popup=lift['읍면동명'][i],radius=2,color=\"#9400D3\",fill_color=\"#3443CC\").add_to(m6)\n",
        "for i in data.index:\n",
        "  folium.CircleMarker([data['위도'][i],data['경도'][i]],radius=data['합계'][i]/100, popup=data['동'][i],color=\"#FFFF00\",fill_color=\"# FFFF00\").add_to(m6)\n",
        "m6"
      ],
      "metadata": {
        "id": "I01hazRW5jYW"
      },
      "execution_count": null,
      "outputs": []
    },
    {
      "cell_type": "code",
      "source": [
        "elevator"
      ],
      "metadata": {
        "id": "eh-cSNQL7i2B"
      },
      "execution_count": null,
      "outputs": []
    },
    {
      "cell_type": "code",
      "source": [
        "import requests\n",
        "import json\n",
        "import folium\n",
        "\n",
        "# 서울 행정구역 json raw파일(githubcontent)\n",
        "r = requests.get('https://raw.githubusercontent.com/southkorea/seoul-maps/master/kostat/2013/json/seoul_municipalities_geo_simple.json')\n",
        "c = r.content\n",
        "seoul_geo = json.loads(c)"
      ],
      "metadata": {
        "id": "_JUkTeCf3ImA"
      },
      "execution_count": null,
      "outputs": []
    },
    {
      "cell_type": "code",
      "source": [
        "folium.GeoJson(\n",
        "    seoul_geo,\n",
        "    name='지역구'\n",
        ").add_to(map)"
      ],
      "metadata": {
        "id": "IF9pse2NzEc7"
      },
      "execution_count": null,
      "outputs": []
    },
    {
      "cell_type": "code",
      "source": [
        "for i in data3.index:\n",
        "  folium.CircleMarker([data3['출발위도'][i],data3['출발경도'][i]],radius=data3['출발합계'][i]/50,color=\"#3443CC\",fill_color=\"#3443CC\").add_to(map)\n",
        "  folium.CircleMarker([data3['도착위도'][i],data3['도착경도'][i]],radius=data3['도착합계'][i]/50,color=\"red\",fill_color=\"red\").add_to(map)\n",
        "\n",
        "map"
      ],
      "metadata": {
        "id": "FY0F3m0czJGy"
      },
      "execution_count": null,
      "outputs": []
    },
    {
      "cell_type": "code",
      "source": [
        ""
      ],
      "metadata": {
        "id": "QHA89A7wzKq1"
      },
      "execution_count": null,
      "outputs": []
    }
  ]
}