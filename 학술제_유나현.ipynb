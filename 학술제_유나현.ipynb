{
  "nbformat": 4,
  "nbformat_minor": 0,
  "metadata": {
    "colab": {
      "name": "학술제_유나현.ipynb",
      "private_outputs": true,
      "provenance": []
    },
    "kernelspec": {
      "name": "python3",
      "display_name": "Python 3"
    },
    "language_info": {
      "name": "python"
    }
  },
  "cells": [
    {
      "cell_type": "code",
      "execution_count": null,
      "metadata": {
        "id": "K0RI0ZYcMuwv"
      },
      "outputs": [],
      "source": [
        "from google.colab import drive\n",
        "drive.mount('/content/drive')"
      ]
    },
    {
      "cell_type": "code",
      "source": [
        "pip install geopandas"
      ],
      "metadata": {
        "id": "rhPpDcosgNlU"
      },
      "execution_count": null,
      "outputs": []
    },
    {
      "cell_type": "code",
      "source": [
        "import pandas as pd\n",
        "import os \n",
        "from geopandas import GeoDataFrame\n",
        "import pickle\n",
        "from shapely.geometry import Point\n",
        "cur_path = os.getcwd() # 경로 설정"
      ],
      "metadata": {
        "id": "-pMu2VGsfpNE"
      },
      "execution_count": null,
      "outputs": []
    },
    {
      "cell_type": "code",
      "source": [
        "subway_crd = pd.read_csv('/content/drive/MyDrive/학술제/지하철역_좌표.csv', encoding='cp949')\n",
        "subway_line= pd.read_csv('/content/drive/MyDrive/학술제/서울교통공사 노선별 지하철역 정보.csv', encoding='cp949')"
      ],
      "metadata": {
        "id": "znz5Mvn6fuWC"
      },
      "execution_count": null,
      "outputs": []
    },
    {
      "cell_type": "code",
      "source": [
        "line_ls = []\n",
        "for i in range(len(subway_crd)): \n",
        "    cur_subway = subway_crd.iloc[i]['역이름']\n",
        "    matched_line = subway_line.loc[subway_line['전철역명'] == cur_subway]\n",
        "    \n",
        "    if len(matched_line) > 0 : \n",
        "        line_ls.append(list(matched_line['호선']))\n",
        "        \n",
        "    else: \n",
        "        line_ls.append(None)\n",
        "\n",
        "subway_crd['호선'] = line_ls # 호선 정보 부여\n",
        "subway_crd.dropna(subset=['호선'], inplace=True, axis=0) # 수도권 지하철역 좌표는 노선 정보가 안들어갔으므로 제거 \n",
        "\n",
        "subway_crd['geometry'] = subway_crd.apply(lambda x: Point(x['x'], x['y']), axis=1) # 좌표 정보를 합쳐서 geometry 정보 부여  \n",
        "subway_crd_gdf = GeoDataFrame(subway_crd, crs='EPSG:4326', geometry='geometry') # 좌표계 지정"
      ],
      "metadata": {
        "id": "XpUtJaavhJoL"
      },
      "execution_count": null,
      "outputs": []
    },
    {
      "cell_type": "code",
      "source": [
        "subway_crd_gdf"
      ],
      "metadata": {
        "id": "H6GCGd0nhJcd"
      },
      "execution_count": null,
      "outputs": []
    },
    {
      "cell_type": "code",
      "source": [
        "!pip install folium"
      ],
      "metadata": {
        "id": "KglqLvV3xwGG"
      },
      "execution_count": null,
      "outputs": []
    },
    {
      "cell_type": "code",
      "source": [
        "seoul_map2 = folium.Map(location=[36.55,126.98],\n",
        "                   tiles='Stamen Terrain',\n",
        "                   zoom_start=12)"
      ],
      "metadata": {
        "id": "KCuszcGRvDL1"
      },
      "execution_count": null,
      "outputs": []
    },
    {
      "cell_type": "code",
      "source": [
        "import folium\n",
        "map = folium.Map(location=[37.51883692578755,126.98948],zoom_start=12)\n",
        "for i in subway_crd_gdf.index:\n",
        "  folium.CircleMarker([subway_crd_gdf['y'][i],subway_crd_gdf['x'][i]], popup=subway_crd_gdf['역이름'][i],color=\"#3443CC\",fill_color=\"#3443CC\").add_to(map)"
      ],
      "metadata": {
        "id": "DwTGGVIGyhQj"
      },
      "execution_count": null,
      "outputs": []
    },
    {
      "cell_type": "code",
      "source": [
        "map"
      ],
      "metadata": {
        "id": "kzt0cU8ay5jX"
      },
      "execution_count": null,
      "outputs": []
    },
    {
      "cell_type": "code",
      "source": [
        "import numpy as np\n",
        "import pandas as pd\n",
        "import seaborn as sns\n",
        "import matplotlib.pyplot as plt"
      ],
      "metadata": {
        "id": "sPj_aGRFNX_1"
      },
      "execution_count": null,
      "outputs": []
    },
    {
      "cell_type": "code",
      "source": [
        "df = pd.read_csv('/content/drive/MyDrive/학술제/서울특별시_저상버스 도입 노선 및 노선별 보유율_12_31_2020.csv', encoding='cp949')"
      ],
      "metadata": {
        "id": "h8qQCB-5NFgh"
      },
      "execution_count": null,
      "outputs": []
    },
    {
      "cell_type": "code",
      "source": [
        "df.info() # 결측치 없음"
      ],
      "metadata": {
        "id": "L60LlhhoR3w4"
      },
      "execution_count": null,
      "outputs": []
    },
    {
      "cell_type": "code",
      "source": [
        "df.head()"
      ],
      "metadata": {
        "id": "LtgIaSR8NVXf"
      },
      "execution_count": null,
      "outputs": []
    },
    {
      "cell_type": "code",
      "source": [
        "df.sort_values(by='보유율', ascending=True).head(10) # 저상 버스가 부족한 노선번호 상위 10개"
      ],
      "metadata": {
        "id": "Q_Pv3JhqN6bQ"
      },
      "execution_count": null,
      "outputs": []
    },
    {
      "cell_type": "code",
      "source": [
        "df2 = pd.read_csv('/content/drive/MyDrive/학술제/서울시 대중교통 이용패턴 정보.csv', encoding='cp949')"
      ],
      "metadata": {
        "id": "69VDVrOySio7"
      },
      "execution_count": null,
      "outputs": []
    },
    {
      "cell_type": "code",
      "source": [
        "df2.head()"
      ],
      "metadata": {
        "id": "W5qQw17nUC0D"
      },
      "execution_count": null,
      "outputs": []
    },
    {
      "cell_type": "code",
      "source": [
        "df2.info()"
      ],
      "metadata": {
        "id": "hxxRY2a5UE75"
      },
      "execution_count": null,
      "outputs": []
    },
    {
      "cell_type": "code",
      "source": [
        "a=df2[['목적통행_패턴', '총_승객수', '총_승객수_장애인']]"
      ],
      "metadata": {
        "id": "FrUlVGarUI4q"
      },
      "execution_count": null,
      "outputs": []
    },
    {
      "cell_type": "code",
      "source": [
        "a.info()"
      ],
      "metadata": {
        "id": "zk0vrQhNUh-S"
      },
      "execution_count": null,
      "outputs": []
    },
    {
      "cell_type": "code",
      "source": [
        "a.dropna(subset=['총_승객수_장애인'],inplace=True)"
      ],
      "metadata": {
        "id": "Wa-KEA7kU5bT"
      },
      "execution_count": null,
      "outputs": []
    },
    {
      "cell_type": "code",
      "source": [
        "a.sort_values(by='총_승객수_장애인', ascending=False)"
      ],
      "metadata": {
        "id": "iGaed4O4VZ_u"
      },
      "execution_count": null,
      "outputs": []
    },
    {
      "cell_type": "code",
      "source": [
        ""
      ],
      "metadata": {
        "id": "8KnPpfb0YwCF"
      },
      "execution_count": null,
      "outputs": []
    }
  ]
}